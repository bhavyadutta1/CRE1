{
 "cells": [
  {
   "cell_type": "code",
   "execution_count": 1,
   "id": "bce8fc10-95f9-4099-b1cf-34971a5b138b",
   "metadata": {},
   "outputs": [
    {
     "name": "stderr",
     "output_type": "stream",
     "text": [
      "/opt/conda/lib/python3.11/site-packages/IPython/core/display.py:431: UserWarning: Consider using IPython.display.IFrame instead\n",
      "  warnings.warn(\"Consider using IPython.display.IFrame instead\")\n"
     ]
    },
    {
     "data": {
      "text/html": [
       "<iframe src=\"scriptCRE1.pdf\" width=\"100%\" height=\"600\"></iframe>"
      ],
      "text/plain": [
       "<IPython.core.display.HTML object>"
      ]
     },
     "metadata": {},
     "output_type": "display_data"
    }
   ],
   "source": [
    "from IPython.display import display, HTML\n",
    "\n",
    "# Path to your PDF file\n",
    "pdf_path = \"scriptCRE1.pdf\"\n",
    "\n",
    "# Embed the PDF as an object with adjusted width and height\n",
    "display(HTML(f'<iframe src=\"{pdf_path}\" width=\"100%\" height=\"600\"></iframe>'))"
   ]
  },
  {
   "cell_type": "code",
   "execution_count": null,
   "id": "c8444807-029b-43a0-9388-dd0f18fb6d1b",
   "metadata": {},
   "outputs": [],
   "source": []
  }
 ],
 "metadata": {
  "kernelspec": {
   "display_name": "Python 3 (ipykernel)",
   "language": "python",
   "name": "python3"
  },
  "language_info": {
   "codemirror_mode": {
    "name": "ipython",
    "version": 3
   },
   "file_extension": ".py",
   "mimetype": "text/x-python",
   "name": "python",
   "nbconvert_exporter": "python",
   "pygments_lexer": "ipython3",
   "version": "3.11.6"
  }
 },
 "nbformat": 4,
 "nbformat_minor": 5
}
