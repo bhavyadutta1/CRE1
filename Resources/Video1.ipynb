{
 "cells": [
  {
   "cell_type": "code",
   "execution_count": null,
   "id": "dd725968-9388-4541-a5c8-8517bb57fca5",
   "metadata": {},
   "outputs": [],
   "source": [
    "from IPython.display import YouTubeVideo"
   ]
  },
  {
   "cell_type": "code",
   "execution_count": null,
   "id": "6fe9162a-f886-4e5a-b624-e55788847ef8",
   "metadata": {},
   "outputs": [],
   "source": [
    "videoP = YouTubeVideo(\"D2GvGqF5DAU\")"
   ]
  },
  {
   "cell_type": "code",
   "execution_count": null,
   "id": "d4d668d1-f802-433c-aa60-bff7139cc766",
   "metadata": {},
   "outputs": [],
   "source": [
    "display(videoP)"
   ]
  }
 ],
 "metadata": {
  "kernelspec": {
   "display_name": "Python 3 (ipykernel)",
   "language": "python",
   "name": "python3"
  },
  "language_info": {
   "codemirror_mode": {
    "name": "ipython",
    "version": 3
   },
   "file_extension": ".py",
   "mimetype": "text/x-python",
   "name": "python",
   "nbconvert_exporter": "python",
   "pygments_lexer": "ipython3",
   "version": "3.11.6"
  }
 },
 "nbformat": 4,
 "nbformat_minor": 5
}
