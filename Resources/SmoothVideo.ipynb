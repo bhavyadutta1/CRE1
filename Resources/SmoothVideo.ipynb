{
 "cells": [
  {
   "cell_type": "code",
   "execution_count": 1,
   "id": "016c843e-7aae-42dd-b890-ff130b6d2142",
   "metadata": {},
   "outputs": [],
   "source": [
    "import IPython"
   ]
  },
  {
   "cell_type": "code",
   "execution_count": 2,
   "id": "f1faa756-80b7-4c15-b228-9cd16913b709",
   "metadata": {},
   "outputs": [
    {
     "ename": "NameError",
     "evalue": "name 'YouTubeVideo' is not defined",
     "output_type": "error",
     "traceback": [
      "\u001b[0;31m---------------------------------------------------------------------------\u001b[0m",
      "\u001b[0;31mNameError\u001b[0m                                 Traceback (most recent call last)",
      "Cell \u001b[0;32mIn[2], line 1\u001b[0m\n\u001b[0;32m----> 1\u001b[0m video \u001b[38;5;241m=\u001b[39m \u001b[43mYouTubeVideo\u001b[49m(\u001b[38;5;124m\"\u001b[39m\u001b[38;5;124mpNbTRj3_GeU\u001b[39m\u001b[38;5;124m\"\u001b[39m)\n",
      "\u001b[0;31mNameError\u001b[0m: name 'YouTubeVideo' is not defined"
     ]
    }
   ],
   "source": [
    "video = YouTubeVideo(\"pNbTRj3_GeU\")"
   ]
  },
  {
   "cell_type": "code",
   "execution_count": null,
   "id": "9e4c6f14-2cec-467e-9d87-ac493b287664",
   "metadata": {},
   "outputs": [],
   "source": [
    "display(video)"
   ]
  }
 ],
 "metadata": {
  "kernelspec": {
   "display_name": "Python 3 (ipykernel)",
   "language": "python",
   "name": "python3"
  },
  "language_info": {
   "codemirror_mode": {
    "name": "ipython",
    "version": 3
   },
   "file_extension": ".py",
   "mimetype": "text/x-python",
   "name": "python",
   "nbconvert_exporter": "python",
   "pygments_lexer": "ipython3",
   "version": "3.11.6"
  }
 },
 "nbformat": 4,
 "nbformat_minor": 5
}
